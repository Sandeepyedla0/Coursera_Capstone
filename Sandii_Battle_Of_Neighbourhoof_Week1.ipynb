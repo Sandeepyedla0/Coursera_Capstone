{
 "cells": [
  {
   "cell_type": "markdown",
   "metadata": {},
   "source": [
    "# Capstone Project  #"
   ]
  },
  {
   "cell_type": "markdown",
   "metadata": {},
   "source": [
    "REPORT CONTENT\n",
    "\n",
    "1.\tIntroduction Section : \n",
    "\t⁃\tDiscussion of the business problem and the interested audience in this project.\n",
    "2.\tData Section:  \n",
    "\t⁃\t Description of the data that will be used to solve the problem and the sources.\n",
    "3.\tMethodology section \n",
    "\t⁃\tDiscussion and description of exploratory data analysis carried out, any inferential statistical testing performed, and if any machine learnings were used establishing the strategy and purposes.\n",
    "4.\tResults section \n",
    "\t⁃\tDiscussion of the results.\n",
    "5.\tDiscussion section \n",
    "\t⁃\tElaboration and discussion on any observations noted and any recommendations suggested based on the results.\n",
    "6.\tConclusion section \n",
    "\t⁃\tReport Conclusion."
   ]
  },
  {
   "cell_type": "markdown",
   "metadata": {},
   "source": [
    "# 1 . Introduction Section"
   ]
  },
  {
   "cell_type": "markdown",
   "metadata": {},
   "source": [
    "##       Discusion of the Buisness Problem to give idea of the application."
   ]
  },
  {
   "cell_type": "markdown",
   "metadata": {},
   "source": [
    " How can I find a convenient and enjoyable place to which i presently live?    \n",
    "In Order to Judge and make a Decision few requirements are listed out."
   ]
  },
  {
   "cell_type": "markdown",
   "metadata": {},
   "source": [
    " apartment must be 2 or 3 bedrooms\n",
    " - desired location is near a metro station. \n",
    " - price of rent not exceed Rs.5000 per month.\n",
    " - top ammenities in the selected neighborhood shall be similar to current residence\n",
    " - desirable to have venues such as coffee shops, restaurants, gym."
   ]
  },
  {
   "cell_type": "markdown",
   "metadata": {},
   "source": [
    "### Business Problem:   \n",
    "The challenge is to find a suitable apartment for rent that complies with the demands on location, price and venues. The data required to resolve this challenge is described\n",
    "\n",
    "\n",
    "\n"
   ]
  },
  {
   "cell_type": "markdown",
   "metadata": {},
   "source": [
    "### Description of the Data:¶\n",
    "\n",
    "The following data is required to  answer the issues of the problem:\n",
    "\n",
    "- List of Boroughs and neighborhoods of location with their geodata (latitud and longitud) \n",
    "- List of Subway metro stations with their address location \n",
    "- List of apartments for rent with their addresses and price\n",
    "- Preferably, a list of apartment for rent with additional information, such as price, address, area, # of beds, etc\n",
    "- Venues for each Manhattan neighborhood ( than can be clustered)\n",
    "- Venues for subway metro stations, as needed\n",
    "\n",
    "\n",
    "### How the data will be used to solve the problem\n",
    "\n",
    "The data will be used as follows:\n",
    "- Use Foursquare and geopy data to map top 10 venues for all neighborhoods and clustered in groups.\n",
    "- Use foursquare and geopy data to map the location of subway metro stations , separately and on top of the above clustered map in order to be able to identify the venues and ammenities near each metro station, or explore each subway location separately\n",
    "- Use Foursquare and geopy data to map the location of rental places, in some form, linked to the subway locations.\n",
    "- create a map that depicts, for instance, the average rental price per square ft, around a radious of 1.0 mile (1.6 km) around each subway station - or a similar metrics. I will be able to quickly point to the popups to know the relative price per subway area.\n",
    "- Addresses from rental locations will be converted to geodata( lat, long) using Geopy-distance and Nominatim.\n",
    "- Data will be searched in open data sources if available.\n",
    "The procesing of these DATA will allow to answer the key questions to make a decision:\n",
    "- what is the cost of rent (per square ft) around a mile radius from each subway metro station?\n",
    "- what is the area with best rental pricing that meets criteria established?\n",
    "- How venues distribute among neighborhoods and around metro stations?\n",
    "- Are there tradeoffs between size and price and location?\n",
    "- Any other interesting statistical data findings of the real estate and overall data.\n",
    "\n"
   ]
  },
  {
   "cell_type": "markdown",
   "metadata": {},
   "source": [
    " # Importing Librarirs"
   ]
  },
  {
   "cell_type": "code",
   "execution_count": 63,
   "metadata": {},
   "outputs": [],
   "source": [
    "import pandas as pd\n",
    "import numpy as np\n",
    "import scipy as sc\n",
    "import json\n",
    "import requests\n",
    "from pandas.io.json import json_normalize \n",
    "from geopy.geocoders import Nominatim\n",
    "import folium\n",
    "pd.set_option('display.max_columns', None)\n",
    "pd.set_option('display.max_rows', None)\n"
   ]
  },
  {
   "cell_type": "code",
   "execution_count": 64,
   "metadata": {},
   "outputs": [],
   "source": [
    "## Here Getting the long lat dat"
   ]
  },
  {
   "cell_type": "code",
   "execution_count": 65,
   "metadata": {},
   "outputs": [],
   "source": [
    "## Then Collecting Some Data required"
   ]
  },
  {
   "cell_type": "code",
   "execution_count": 66,
   "metadata": {},
   "outputs": [],
   "source": [
    "## Processing If required"
   ]
  },
  {
   "cell_type": "code",
   "execution_count": 67,
   "metadata": {},
   "outputs": [],
   "source": [
    "## Alligning Data "
   ]
  },
  {
   "cell_type": "markdown",
   "metadata": {},
   "source": [
    "##  3.-> Methodology section \n",
    "##  4.-> Results section \n",
    "##  5.-> Discussion section \n",
    "##  6.->Conclusion section\n"
   ]
  },
  {
   "cell_type": "code",
   "execution_count": 95,
   "metadata": {},
   "outputs": [
    {
     "name": "stdout",
     "output_type": "stream",
     "text": [
      "The Hyderabad coordinate of home are 28.6517178, 77.2219388.\n"
     ]
    }
   ],
   "source": [
    "address = \" Delhi, India \"\n",
    "geolocator = Nominatim()\n",
    "location = geolocator.geocode(address)\n",
    "latitude = location.latitude\n",
    "longitude = location.longitude\n",
    "print('The Hyderabad coordinate of home are {}, {}.'.format(latitude, longitude))"
   ]
  },
  {
   "cell_type": "code",
   "execution_count": 96,
   "metadata": {},
   "outputs": [],
   "source": [
    "neighborhood_latitude=28.6517178\n",
    "neighborhood_longitude= 77.2219388"
   ]
  },
  {
   "cell_type": "code",
   "execution_count": 97,
   "metadata": {},
   "outputs": [],
   "source": [
    "# @hideen_cell \n",
    "CLIENT_ID = \"3MHV52EKEIMKY5UTJ2OSLFOLXR1AD2LCDKWJTG2NIW5OCFCT\"\n",
    "CLIENT_SECRET = 'RZE3IKSH3H5X2QLK21MLDET1BSQAPI1W0N5C0JGMSWE1NNRA'"
   ]
  },
  {
   "cell_type": "code",
   "execution_count": 98,
   "metadata": {},
   "outputs": [
    {
     "data": {
      "text/plain": [
       "'https://api.foursquare.com/v2/venues/explore?&client_id=3MHV52EKEIMKY5UTJ2OSLFOLXR1AD2LCDKWJTG2NIW5OCFCT&client_secret=RZE3IKSH3H5X2QLK21MLDET1BSQAPI1W0N5C0JGMSWE1NNRA&v=20190718&ll=28.6517178,77.2219388&radius=1000&limit=50'"
      ]
     },
     "execution_count": 98,
     "metadata": {},
     "output_type": "execute_result"
    }
   ],
   "source": [
    "LIMIT = 50\n",
    "RADIUS = 1000\n",
    "VERSION = 20190718 \n",
    "url = 'https://api.foursquare.com/v2/venues/explore?&client_id={}&client_secret={}&v={}&ll={},{}&radius={}&limit={}'.format(\n",
    "CLIENT_ID, CLIENT_SECRET, VERSION, neighborhood_latitude, \n",
    "    neighborhood_longitude, \n",
    "    RADIUS, \n",
    "    LIMIT)\n",
    "url\n"
   ]
  },
  {
   "cell_type": "code",
   "execution_count": 117,
   "metadata": {},
   "outputs": [],
   "source": [
    "results = requests.get(url).json()\n"
   ]
  },
  {
   "cell_type": "code",
   "execution_count": 100,
   "metadata": {},
   "outputs": [],
   "source": [
    "def get_category_type(row):\n",
    "    try:\n",
    "        categories_list = row['categories']\n",
    "    except:\n",
    "        categories_list = row['venue.categories']\n",
    "        \n",
    "    if len(categories_list) == 0:\n",
    "        return None\n",
    "    else:\n",
    "        return categories_list[0]['name']"
   ]
  },
  {
   "cell_type": "code",
   "execution_count": 118,
   "metadata": {},
   "outputs": [
    {
     "data": {
      "text/html": [
       "<div>\n",
       "<style scoped>\n",
       "    .dataframe tbody tr th:only-of-type {\n",
       "        vertical-align: middle;\n",
       "    }\n",
       "\n",
       "    .dataframe tbody tr th {\n",
       "        vertical-align: top;\n",
       "    }\n",
       "\n",
       "    .dataframe thead th {\n",
       "        text-align: right;\n",
       "    }\n",
       "</style>\n",
       "<table border=\"1\" class=\"dataframe\">\n",
       "  <thead>\n",
       "    <tr style=\"text-align: right;\">\n",
       "      <th></th>\n",
       "      <th>name</th>\n",
       "      <th>categories</th>\n",
       "      <th>address</th>\n",
       "      <th>lat</th>\n",
       "      <th>lng</th>\n",
       "    </tr>\n",
       "  </thead>\n",
       "  <tbody>\n",
       "    <tr>\n",
       "      <th>0</th>\n",
       "      <td>Spice Market</td>\n",
       "      <td>Food &amp; Drink Shop</td>\n",
       "      <td>NaN</td>\n",
       "      <td>28.657287</td>\n",
       "      <td>77.222595</td>\n",
       "    </tr>\n",
       "    <tr>\n",
       "      <th>1</th>\n",
       "      <td>Kake Di Hatti | काके दी हट्टी</td>\n",
       "      <td>Indian Restaurant</td>\n",
       "      <td>Paranthewali Gali</td>\n",
       "      <td>28.658050</td>\n",
       "      <td>77.223377</td>\n",
       "    </tr>\n",
       "    <tr>\n",
       "      <th>2</th>\n",
       "      <td>Giani's Di Hatti Rabri Faluda</td>\n",
       "      <td>Dessert Shop</td>\n",
       "      <td>NaN</td>\n",
       "      <td>28.657889</td>\n",
       "      <td>77.223296</td>\n",
       "    </tr>\n",
       "    <tr>\n",
       "      <th>3</th>\n",
       "      <td>bloomrooms @ New Delhi Railway Station</td>\n",
       "      <td>Hotel</td>\n",
       "      <td>8591, Arakashan Road</td>\n",
       "      <td>28.645537</td>\n",
       "      <td>77.217701</td>\n",
       "    </tr>\n",
       "    <tr>\n",
       "      <th>4</th>\n",
       "      <td>Chawri Bazaar | चावड़ी बाजार</td>\n",
       "      <td>Hardware Store</td>\n",
       "      <td>Chawri Bazar, Chandni Chowk</td>\n",
       "      <td>28.649771</td>\n",
       "      <td>77.227364</td>\n",
       "    </tr>\n",
       "    <tr>\n",
       "      <th>5</th>\n",
       "      <td>The Indian Grill Restaurant</td>\n",
       "      <td>Restaurant</td>\n",
       "      <td>8501/15,Ara Kashan Road,Inside Hotel Godwin De...</td>\n",
       "      <td>28.646141</td>\n",
       "      <td>77.215133</td>\n",
       "    </tr>\n",
       "    <tr>\n",
       "      <th>6</th>\n",
       "      <td>Nai Sarak | नई सड़क</td>\n",
       "      <td>Paper / Office Supplies Store</td>\n",
       "      <td>NaN</td>\n",
       "      <td>28.652839</td>\n",
       "      <td>77.228708</td>\n",
       "    </tr>\n",
       "    <tr>\n",
       "      <th>7</th>\n",
       "      <td>Chandni Chowk | चाँदनी चौक (Chandni Chowk)</td>\n",
       "      <td>Market</td>\n",
       "      <td>Chandni Chowk</td>\n",
       "      <td>28.656076</td>\n",
       "      <td>77.230740</td>\n",
       "    </tr>\n",
       "    <tr>\n",
       "      <th>8</th>\n",
       "      <td>Giani Kulfi</td>\n",
       "      <td>Dessert Shop</td>\n",
       "      <td>Fatehpuri</td>\n",
       "      <td>28.657847</td>\n",
       "      <td>77.223231</td>\n",
       "    </tr>\n",
       "    <tr>\n",
       "      <th>9</th>\n",
       "      <td>The Prime Balaji Deluxe @ New Delhi Railway St...</td>\n",
       "      <td>Hotel</td>\n",
       "      <td>8574 Arakashan Road Pahar Ganj</td>\n",
       "      <td>28.645247</td>\n",
       "      <td>77.217433</td>\n",
       "    </tr>\n",
       "  </tbody>\n",
       "</table>\n",
       "</div>"
      ],
      "text/plain": [
       "                                                name  \\\n",
       "0                                       Spice Market   \n",
       "1                      Kake Di Hatti | काके दी हट्टी   \n",
       "2                      Giani's Di Hatti Rabri Faluda   \n",
       "3             bloomrooms @ New Delhi Railway Station   \n",
       "4                       Chawri Bazaar | चावड़ी बाजार   \n",
       "5                        The Indian Grill Restaurant   \n",
       "6                                Nai Sarak | नई सड़क   \n",
       "7         Chandni Chowk | चाँदनी चौक (Chandni Chowk)   \n",
       "8                                        Giani Kulfi   \n",
       "9  The Prime Balaji Deluxe @ New Delhi Railway St...   \n",
       "\n",
       "                      categories  \\\n",
       "0              Food & Drink Shop   \n",
       "1              Indian Restaurant   \n",
       "2                   Dessert Shop   \n",
       "3                          Hotel   \n",
       "4                 Hardware Store   \n",
       "5                     Restaurant   \n",
       "6  Paper / Office Supplies Store   \n",
       "7                         Market   \n",
       "8                   Dessert Shop   \n",
       "9                          Hotel   \n",
       "\n",
       "                                             address        lat        lng  \n",
       "0                                                NaN  28.657287  77.222595  \n",
       "1                                  Paranthewali Gali  28.658050  77.223377  \n",
       "2                                                NaN  28.657889  77.223296  \n",
       "3                               8591, Arakashan Road  28.645537  77.217701  \n",
       "4                        Chawri Bazar, Chandni Chowk  28.649771  77.227364  \n",
       "5  8501/15,Ara Kashan Road,Inside Hotel Godwin De...  28.646141  77.215133  \n",
       "6                                                NaN  28.652839  77.228708  \n",
       "7                                      Chandni Chowk  28.656076  77.230740  \n",
       "8                                          Fatehpuri  28.657847  77.223231  \n",
       "9                     8574 Arakashan Road Pahar Ganj  28.645247  77.217433  "
      ]
     },
     "execution_count": 118,
     "metadata": {},
     "output_type": "execute_result"
    }
   ],
   "source": [
    "venues = results['response']['groups'][0]['items']\n",
    "    \n",
    "SGnearby_venues = json_normalize(venues) # flatten JSON\n",
    "\n",
    "# filter columns\n",
    "filtered_columns = ['venue.name', 'venue.categories','venue.location.address', 'venue.location.lat', 'venue.location.lng']\n",
    "SGnearby_venues =SGnearby_venues.loc[:, filtered_columns]\n",
    "\n",
    "# filter the category for each row\n",
    "SGnearby_venues['venue.categories'] = SGnearby_venues.apply(get_category_type, axis=1)\n",
    "\n",
    "# clean columns\n",
    "SGnearby_venues.columns = [col.split(\".\")[-1] for col in SGnearby_venues.columns]\n",
    "\n",
    "SGnearby_venues.head(10)"
   ]
  },
  {
   "cell_type": "code",
   "execution_count": 126,
   "metadata": {},
   "outputs": [
    {
     "data": {
      "text/html": [
       "<div style=\"width:100%;\"><div style=\"position:relative;width:100%;height:0;padding-bottom:60%;\"><iframe src=\"data:text/html;charset=utf-8;base64,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\" style=\"position:absolute;width:100%;height:100%;left:0;top:0;border:none !important;\" allowfullscreen webkitallowfullscreen mozallowfullscreen></iframe></div></div>"
      ],
      "text/plain": [
       "<folium.folium.Map at 0x7f84003dc240>"
      ]
     },
     "execution_count": 126,
     "metadata": {},
     "output_type": "execute_result"
    }
   ],
   "source": [
    "# create map of Singapore place  using latitude and longitude values\n",
    "map_sg = folium.Map(location=[latitude, longitude], zoom_start=20)\n",
    "\n",
    "# add markers to map\n",
    "for lat, lng, label in zip(SGnearby_venues['lat'], SGnearby_venues['lng'], SGnearby_venues['name']):\n",
    "    label = folium.Popup(label, parse_html=True)\n",
    "    folium.RegularPolygonMarker(\n",
    "        [lat, lng],\n",
    "        number_of_sides=4,\n",
    "        radius=10,\n",
    "        popup=label,\n",
    "        color='blue',\n",
    "        fill_color='#0f0f0f',\n",
    "        fill_opacity=0.7,\n",
    "    ).add_to(map_sg)  \n",
    "    \n",
    "map_sg"
   ]
  },
  {
   "cell_type": "code",
   "execution_count": null,
   "metadata": {},
   "outputs": [],
   "source": []
  }
 ],
 "metadata": {
  "kernelspec": {
   "display_name": "Python 3",
   "language": "python",
   "name": "python3"
  },
  "language_info": {
   "codemirror_mode": {
    "name": "ipython",
    "version": 3
   },
   "file_extension": ".py",
   "mimetype": "text/x-python",
   "name": "python",
   "nbconvert_exporter": "python",
   "pygments_lexer": "ipython3",
   "version": "3.6.7"
  }
 },
 "nbformat": 4,
 "nbformat_minor": 4
}
